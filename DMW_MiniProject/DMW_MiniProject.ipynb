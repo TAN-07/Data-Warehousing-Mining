{
  "nbformat": 4,
  "nbformat_minor": 0,
  "metadata": {
    "colab": {
      "name": "DMW_MiniProject.ipynb",
      "provenance": [],
      "collapsed_sections": [],
      "include_colab_link": true
    },
    "kernelspec": {
      "name": "python3",
      "display_name": "Python 3"
    },
    "language_info": {
      "name": "python"
    }
  },
  "cells": [
    {
      "cell_type": "markdown",
      "metadata": {
        "id": "view-in-github",
        "colab_type": "text"
      },
      "source": [
        "<a href=\"https://colab.research.google.com/github/TAN-07/Data-Warehousing-Mining/blob/main/DMW_MiniProject/DMW_MiniProject.ipynb\" target=\"_parent\"><img src=\"https://colab.research.google.com/assets/colab-badge.svg\" alt=\"Open In Colab\"/></a>"
      ]
    },
    {
      "cell_type": "markdown",
      "source": [
        "B.E.-B 15 Tanvi Nirmal  B.E.-B 17 Sakshi Thorat\n",
        "\n",
        "#**DMW Mini Project**\n",
        "\n",
        "Mini project on classification: Consider a labeled dataset belonging to an application domain. Apply suitable data preprocessing steps such as handling of null values, data reduction, discretization. For prediction of class labels of given data instances, build classifier models using different techniques (minimum 3), analyze the confusion matrix and compare these models. Also apply cross validation while preparing the training and testing datasets."
      ],
      "metadata": {
        "id": "54gf1tf6dtAL"
      }
    },
    {
      "cell_type": "markdown",
      "source": [
        "#**Project Title : Heart Disease Risk Prediction**"
      ],
      "metadata": {
        "id": "CZaomFgEeXbX"
      }
    },
    {
      "cell_type": "markdown",
      "metadata": {
        "id": "m6FO1SM6uOHw"
      },
      "source": [
        "Dataset Contains:\n",
        "```\n",
        "* age     : age in years\n",
        "* sex     : (1 = male; 0 = female)\n",
        "* cp      : chest pain type\n",
        "* trestbps: resting blood pressure (in mm Hg on admission to the hospital)\n",
        "* chol    : serum cholestoral in mg/dl\n",
        "* fbs     : (fasting blood sugar > 120 mg/dl) (1 = true; 0 = false)\n",
        "* restecg : resting electrocardiographic results\n",
        "* thalach : maximum heart rate achieved\n",
        "* exang   : exercise induced angina (1 = yes; 0 = no)\n",
        "* oldpeak : ST depression induced by exercise relative to rest looks at stress of heart during excercise unhealthy heart will stress more\n",
        "* slope   : the slope of the peak exercise ST segment\n",
        "* ca      : number of major vessels (0-3) colored by flourosopy\n",
        "* thal    : thalium stress reult 1,3 = normal; 6 = fixed defect; 7 = reversable defect\n",
        "* target  : have disease or not (1,2,3,4=yes, 0=no) (= the predicted attribute)\n",
        "```\n",
        "\n"
      ]
    },
    {
      "cell_type": "markdown",
      "metadata": {
        "id": "MV27OUx6tfNO"
      },
      "source": [
        "#**Importing Libraries**"
      ]
    },
    {
      "cell_type": "code",
      "execution_count": null,
      "metadata": {
        "id": "bxm6qkJHsOlc"
      },
      "outputs": [],
      "source": [
        "import numpy as np\n",
        "import pandas as pd\n",
        "import matplotlib.pyplot as plt\n",
        "import seaborn as sns"
      ]
    },
    {
      "cell_type": "markdown",
      "metadata": {
        "id": "527QKCMVtkc5"
      },
      "source": [
        "#**Importing Dataset**"
      ]
    },
    {
      "cell_type": "code",
      "execution_count": null,
      "metadata": {
        "colab": {
          "base_uri": "https://localhost:8080/",
          "height": 206
        },
        "id": "-7hTlaOetYoH",
        "outputId": "4680241b-4ee5-49ff-a904-ec2ee196f32b"
      },
      "outputs": [
        {
          "output_type": "execute_result",
          "data": {
            "text/html": [
              "<div>\n",
              "<style scoped>\n",
              "    .dataframe tbody tr th:only-of-type {\n",
              "        vertical-align: middle;\n",
              "    }\n",
              "\n",
              "    .dataframe tbody tr th {\n",
              "        vertical-align: top;\n",
              "    }\n",
              "\n",
              "    .dataframe thead th {\n",
              "        text-align: right;\n",
              "    }\n",
              "</style>\n",
              "<table border=\"1\" class=\"dataframe\">\n",
              "  <thead>\n",
              "    <tr style=\"text-align: right;\">\n",
              "      <th></th>\n",
              "      <th>age</th>\n",
              "      <th>sex</th>\n",
              "      <th>cp</th>\n",
              "      <th>trestbps</th>\n",
              "      <th>chol</th>\n",
              "      <th>fbs</th>\n",
              "      <th>restecg</th>\n",
              "      <th>thalach</th>\n",
              "      <th>exang</th>\n",
              "      <th>oldpeak</th>\n",
              "      <th>slope</th>\n",
              "      <th>ca</th>\n",
              "      <th>thal</th>\n",
              "      <th>target</th>\n",
              "    </tr>\n",
              "  </thead>\n",
              "  <tbody>\n",
              "    <tr>\n",
              "      <th>0</th>\n",
              "      <td>67</td>\n",
              "      <td>1</td>\n",
              "      <td>4</td>\n",
              "      <td>160</td>\n",
              "      <td>286</td>\n",
              "      <td>0</td>\n",
              "      <td>2</td>\n",
              "      <td>108</td>\n",
              "      <td>1</td>\n",
              "      <td>1.5</td>\n",
              "      <td>2</td>\n",
              "      <td>3.0</td>\n",
              "      <td>3.0</td>\n",
              "      <td>2</td>\n",
              "    </tr>\n",
              "    <tr>\n",
              "      <th>1</th>\n",
              "      <td>67</td>\n",
              "      <td>1</td>\n",
              "      <td>4</td>\n",
              "      <td>120</td>\n",
              "      <td>229</td>\n",
              "      <td>0</td>\n",
              "      <td>2</td>\n",
              "      <td>129</td>\n",
              "      <td>1</td>\n",
              "      <td>2.6</td>\n",
              "      <td>2</td>\n",
              "      <td>2.0</td>\n",
              "      <td>7.0</td>\n",
              "      <td>1</td>\n",
              "    </tr>\n",
              "    <tr>\n",
              "      <th>2</th>\n",
              "      <td>37</td>\n",
              "      <td>1</td>\n",
              "      <td>3</td>\n",
              "      <td>130</td>\n",
              "      <td>250</td>\n",
              "      <td>0</td>\n",
              "      <td>0</td>\n",
              "      <td>187</td>\n",
              "      <td>0</td>\n",
              "      <td>3.5</td>\n",
              "      <td>3</td>\n",
              "      <td>0.0</td>\n",
              "      <td>3.0</td>\n",
              "      <td>0</td>\n",
              "    </tr>\n",
              "    <tr>\n",
              "      <th>3</th>\n",
              "      <td>41</td>\n",
              "      <td>0</td>\n",
              "      <td>2</td>\n",
              "      <td>130</td>\n",
              "      <td>204</td>\n",
              "      <td>0</td>\n",
              "      <td>2</td>\n",
              "      <td>172</td>\n",
              "      <td>0</td>\n",
              "      <td>1.4</td>\n",
              "      <td>1</td>\n",
              "      <td>0.0</td>\n",
              "      <td>3.0</td>\n",
              "      <td>0</td>\n",
              "    </tr>\n",
              "    <tr>\n",
              "      <th>4</th>\n",
              "      <td>56</td>\n",
              "      <td>1</td>\n",
              "      <td>2</td>\n",
              "      <td>120</td>\n",
              "      <td>236</td>\n",
              "      <td>0</td>\n",
              "      <td>0</td>\n",
              "      <td>178</td>\n",
              "      <td>0</td>\n",
              "      <td>0.8</td>\n",
              "      <td>1</td>\n",
              "      <td>0.0</td>\n",
              "      <td>3.0</td>\n",
              "      <td>0</td>\n",
              "    </tr>\n",
              "  </tbody>\n",
              "</table>\n",
              "</div>"
            ],
            "text/plain": [
              "   age  sex  cp  trestbps  chol  fbs  ...  exang  oldpeak  slope   ca  thal  target\n",
              "0   67    1   4       160   286    0  ...      1      1.5      2  3.0   3.0       2\n",
              "1   67    1   4       120   229    0  ...      1      2.6      2  2.0   7.0       1\n",
              "2   37    1   3       130   250    0  ...      0      3.5      3  0.0   3.0       0\n",
              "3   41    0   2       130   204    0  ...      0      1.4      1  0.0   3.0       0\n",
              "4   56    1   2       120   236    0  ...      0      0.8      1  0.0   3.0       0\n",
              "\n",
              "[5 rows x 14 columns]"
            ]
          },
          "metadata": {},
          "execution_count": 3
        }
      ],
      "source": [
        "#This dataset can be downloaded from https://archive.ics.uci.edu/ml/datasets/Heart+Disease\n",
        "df = pd.read_csv(\"cleveland.csv\")\n",
        "\n",
        "df.columns = ['age', 'sex', 'cp', 'trestbps', 'chol', 'fbs', 'restecg', 'thalach', 'exang', 'oldpeak', 'slope', 'ca', 'thal', 'target']\n",
        "\n",
        "df.head()"
      ]
    },
    {
      "cell_type": "markdown",
      "metadata": {
        "id": "5-d17YnDx862"
      },
      "source": [
        "#**Data Exploration**"
      ]
    },
    {
      "cell_type": "code",
      "execution_count": null,
      "metadata": {
        "colab": {
          "base_uri": "https://localhost:8080/"
        },
        "id": "pIyKGdFp1TRY",
        "outputId": "d14b8ba6-f1e1-4c3b-ceeb-ca1a0c833ca9"
      },
      "outputs": [
        {
          "output_type": "execute_result",
          "data": {
            "text/plain": [
              "age         0\n",
              "sex         0\n",
              "cp          0\n",
              "trestbps    0\n",
              "chol        0\n",
              "fbs         0\n",
              "restecg     0\n",
              "thalach     0\n",
              "exang       0\n",
              "oldpeak     0\n",
              "slope       0\n",
              "ca          4\n",
              "thal        2\n",
              "target      0\n",
              "dtype: int64"
            ]
          },
          "metadata": {},
          "execution_count": 4
        }
      ],
      "source": [
        "df.isnull().sum()"
      ]
    },
    {
      "cell_type": "code",
      "execution_count": null,
      "metadata": {
        "id": "O4A4DdyuCL_8"
      },
      "outputs": [],
      "source": [
        "#There are only 6 cells with null values. So, imputing them.\n",
        "df['thal'] = df.thal.fillna(df.thal.mean())\n",
        "df['ca'] = df.ca.fillna(df.ca.mean())\n",
        "\n",
        "df['target'] = df.target.map({0: 0, 1: 1, 2: 1, 3: 1, 4: 1})\n",
        "df['sex'] = df.sex.map({0: 'female', 1: 'male'})"
      ]
    },
    {
      "cell_type": "code",
      "execution_count": null,
      "metadata": {
        "colab": {
          "base_uri": "https://localhost:8080/"
        },
        "id": "ZO4udkz7w9do",
        "outputId": "fa1beb80-286f-43f3-dc8c-65533d4d38ea"
      },
      "outputs": [
        {
          "output_type": "execute_result",
          "data": {
            "text/plain": [
              "0    163\n",
              "1    139\n",
              "Name: target, dtype: int64"
            ]
          },
          "metadata": {},
          "execution_count": 6
        }
      ],
      "source": [
        "df.target.value_counts()"
      ]
    },
    {
      "cell_type": "code",
      "execution_count": null,
      "metadata": {
        "colab": {
          "base_uri": "https://localhost:8080/",
          "height": 407
        },
        "id": "dd0WJF141PQv",
        "outputId": "ff74b061-0cce-436f-8da6-0147a344d527"
      },
      "outputs": [
        {
          "output_type": "display_data",
          "data": {
            "image/png": "[encoded data removed]",
            "text/plain": [
              "<Figure size 1440x432 with 1 Axes>"
            ]
          },
          "metadata": {
            "needs_background": "light"
          }
        }
      ],
      "source": [
        "pd.crosstab(df.age,df.target).plot(kind=\"bar\",figsize=(20,6))\n",
        "plt.title('Heart Disease Frequency for Ages')\n",
        "plt.xlabel('Age')\n",
        "plt.ylabel('Frequency')\n",
        "plt.show()"
      ]
    },
    {
      "cell_type": "code",
      "execution_count": null,
      "metadata": {
        "colab": {
          "base_uri": "https://localhost:8080/",
          "height": 385
        },
        "id": "by4c6ymr1v_c",
        "outputId": "0215c5fb-9626-4d4b-8005-62aa8f74a13e"
      },
      "outputs": [
        {
          "output_type": "display_data",
          "data": {
            "image/png": "[encoded data removed]",
            "text/plain": [
              "<Figure size 402.375x360 with 1 Axes>"
            ]
          },
          "metadata": {
            "needs_background": "light"
          }
        }
      ],
      "source": [
        "sns.catplot(kind='bar', data=df, x='sex',y='age',hue='target')\n",
        "plt.title('Distribution of age vs sex with the target class')\n",
        "plt.show()"
      ]
    },
    {
      "cell_type": "code",
      "execution_count": null,
      "metadata": {
        "id": "kaqwuHeJENmB"
      },
      "outputs": [],
      "source": [
        "df['sex'] = df.sex.map({'female': 0, 'male': 1})         "
      ]
    },
    {
      "cell_type": "markdown",
      "metadata": {
        "id": "AGVhZBaN3jfU"
      },
      "source": [
        "#**Data Preprocessing**\n",
        "\n"
      ]
    },
    {
      "cell_type": "code",
      "execution_count": null,
      "metadata": {
        "id": "L17xvk8eL65m",
        "colab": {
          "base_uri": "https://localhost:8080/",
          "height": 226
        },
        "outputId": "fd28c33b-78c2-4fc0-e7cd-c7ddf3fad99d"
      },
      "outputs": [
        {
          "output_type": "execute_result",
          "data": {
            "text/html": [
              "<div>\n",
              "<style scoped>\n",
              "    .dataframe tbody tr th:only-of-type {\n",
              "        vertical-align: middle;\n",
              "    }\n",
              "\n",
              "    .dataframe tbody tr th {\n",
              "        vertical-align: top;\n",
              "    }\n",
              "\n",
              "    .dataframe thead th {\n",
              "        text-align: right;\n",
              "    }\n",
              "</style>\n",
              "<table border=\"1\" class=\"dataframe\">\n",
              "  <thead>\n",
              "    <tr style=\"text-align: right;\">\n",
              "      <th></th>\n",
              "      <th>age</th>\n",
              "      <th>sex</th>\n",
              "      <th>trestbps</th>\n",
              "      <th>chol</th>\n",
              "      <th>fbs</th>\n",
              "      <th>restecg</th>\n",
              "      <th>thalach</th>\n",
              "      <th>exang</th>\n",
              "      <th>oldpeak</th>\n",
              "      <th>ca</th>\n",
              "      <th>target</th>\n",
              "      <th>cp_1</th>\n",
              "      <th>cp_2</th>\n",
              "      <th>cp_3</th>\n",
              "      <th>cp_4</th>\n",
              "      <th>thal_3.0</th>\n",
              "      <th>thal_4.73</th>\n",
              "      <th>thal_6.0</th>\n",
              "      <th>thal_7.0</th>\n",
              "      <th>slope_1</th>\n",
              "      <th>slope_2</th>\n",
              "      <th>slope_3</th>\n",
              "    </tr>\n",
              "  </thead>\n",
              "  <tbody>\n",
              "    <tr>\n",
              "      <th>0</th>\n",
              "      <td>67</td>\n",
              "      <td>1</td>\n",
              "      <td>160</td>\n",
              "      <td>286</td>\n",
              "      <td>0</td>\n",
              "      <td>2</td>\n",
              "      <td>108</td>\n",
              "      <td>1</td>\n",
              "      <td>1.5</td>\n",
              "      <td>3.0</td>\n",
              "      <td>1</td>\n",
              "      <td>0</td>\n",
              "      <td>0</td>\n",
              "      <td>0</td>\n",
              "      <td>1</td>\n",
              "      <td>1</td>\n",
              "      <td>0</td>\n",
              "      <td>0</td>\n",
              "      <td>0</td>\n",
              "      <td>0</td>\n",
              "      <td>1</td>\n",
              "      <td>0</td>\n",
              "    </tr>\n",
              "    <tr>\n",
              "      <th>1</th>\n",
              "      <td>67</td>\n",
              "      <td>1</td>\n",
              "      <td>120</td>\n",
              "      <td>229</td>\n",
              "      <td>0</td>\n",
              "      <td>2</td>\n",
              "      <td>129</td>\n",
              "      <td>1</td>\n",
              "      <td>2.6</td>\n",
              "      <td>2.0</td>\n",
              "      <td>1</td>\n",
              "      <td>0</td>\n",
              "      <td>0</td>\n",
              "      <td>0</td>\n",
              "      <td>1</td>\n",
              "      <td>0</td>\n",
              "      <td>0</td>\n",
              "      <td>0</td>\n",
              "      <td>1</td>\n",
              "      <td>0</td>\n",
              "      <td>1</td>\n",
              "      <td>0</td>\n",
              "    </tr>\n",
              "    <tr>\n",
              "      <th>2</th>\n",
              "      <td>37</td>\n",
              "      <td>1</td>\n",
              "      <td>130</td>\n",
              "      <td>250</td>\n",
              "      <td>0</td>\n",
              "      <td>0</td>\n",
              "      <td>187</td>\n",
              "      <td>0</td>\n",
              "      <td>3.5</td>\n",
              "      <td>0.0</td>\n",
              "      <td>0</td>\n",
              "      <td>0</td>\n",
              "      <td>0</td>\n",
              "      <td>1</td>\n",
              "      <td>0</td>\n",
              "      <td>1</td>\n",
              "      <td>0</td>\n",
              "      <td>0</td>\n",
              "      <td>0</td>\n",
              "      <td>0</td>\n",
              "      <td>0</td>\n",
              "      <td>1</td>\n",
              "    </tr>\n",
              "    <tr>\n",
              "      <th>3</th>\n",
              "      <td>41</td>\n",
              "      <td>0</td>\n",
              "      <td>130</td>\n",
              "      <td>204</td>\n",
              "      <td>0</td>\n",
              "      <td>2</td>\n",
              "      <td>172</td>\n",
              "      <td>0</td>\n",
              "      <td>1.4</td>\n",
              "      <td>0.0</td>\n",
              "      <td>0</td>\n",
              "      <td>0</td>\n",
              "      <td>1</td>\n",
              "      <td>0</td>\n",
              "      <td>0</td>\n",
              "      <td>1</td>\n",
              "      <td>0</td>\n",
              "      <td>0</td>\n",
              "      <td>0</td>\n",
              "      <td>1</td>\n",
              "      <td>0</td>\n",
              "      <td>0</td>\n",
              "    </tr>\n",
              "    <tr>\n",
              "      <th>4</th>\n",
              "      <td>56</td>\n",
              "      <td>1</td>\n",
              "      <td>120</td>\n",
              "      <td>236</td>\n",
              "      <td>0</td>\n",
              "      <td>0</td>\n",
              "      <td>178</td>\n",
              "      <td>0</td>\n",
              "      <td>0.8</td>\n",
              "      <td>0.0</td>\n",
              "      <td>0</td>\n",
              "      <td>0</td>\n",
              "      <td>1</td>\n",
              "      <td>0</td>\n",
              "      <td>0</td>\n",
              "      <td>1</td>\n",
              "      <td>0</td>\n",
              "      <td>0</td>\n",
              "      <td>0</td>\n",
              "      <td>1</td>\n",
              "      <td>0</td>\n",
              "      <td>0</td>\n",
              "    </tr>\n",
              "  </tbody>\n",
              "</table>\n",
              "</div>"
            ],
            "text/plain": [
              "   age  sex  trestbps  chol  fbs  ...  thal_6.0  thal_7.0  slope_1  slope_2  slope_3\n",
              "0   67    1       160   286    0  ...         0         0        0        1        0\n",
              "1   67    1       120   229    0  ...         0         1        0        1        0\n",
              "2   37    1       130   250    0  ...         0         0        0        0        1\n",
              "3   41    0       130   204    0  ...         0         0        1        0        0\n",
              "4   56    1       120   236    0  ...         0         0        1        0        0\n",
              "\n",
              "[5 rows x 22 columns]"
            ]
          },
          "metadata": {},
          "execution_count": 10
        }
      ],
      "source": [
        "#Creating Dummy Variables\n",
        "#Since 'cp', 'thal' and 'slope' are categorical variables we'll turn them into dummy variables.\n",
        "\n",
        "a = pd.get_dummies(df['cp'], prefix = \"cp\")\n",
        "b = pd.get_dummies(df['thal'], prefix = \"thal\")\n",
        "c = pd.get_dummies(df['slope'], prefix = \"slope\")\n",
        "\n",
        "frames = [df, a, b, c]\n",
        "df = pd.concat(frames, axis = 1)\n",
        "\n",
        "df = df.drop(columns = ['cp', 'thal', 'slope'])\n",
        "df.head()"
      ]
    },
    {
      "cell_type": "code",
      "execution_count": null,
      "metadata": {
        "id": "qcyOTjv3Ek-u"
      },
      "outputs": [],
      "source": [
        "X = df.drop(['target'], axis = 1)\n",
        "y = df.target.values"
      ]
    },
    {
      "cell_type": "code",
      "execution_count": null,
      "metadata": {
        "id": "5eDtfTujFfUn"
      },
      "outputs": [],
      "source": [
        "#Standard Scaler\n",
        "from sklearn.preprocessing import StandardScaler\n",
        "sc = StandardScaler()\n",
        "X = sc.fit_transform(X)"
      ]
    },
    {
      "cell_type": "markdown",
      "metadata": {
        "id": "j3hsbMZmF_KK"
      },
      "source": [
        "#Splitting of Dataset"
      ]
    },
    {
      "cell_type": "code",
      "execution_count": null,
      "metadata": {
        "id": "OQ69SF5mGDWb"
      },
      "outputs": [],
      "source": [
        "#Splitting of dataset to 80% - 20%\n",
        "from sklearn.model_selection import train_test_split\n",
        "X_train,X_test,y_train,y_test=train_test_split(X,y,test_size=0.2,random_state=0)"
      ]
    },
    {
      "cell_type": "markdown",
      "metadata": {
        "id": "2Mdcr2YQG3e6"
      },
      "source": [
        "#**Building Classifier Models**"
      ]
    },
    {
      "cell_type": "code",
      "execution_count": null,
      "metadata": {
        "id": "--i_vUdNGOXi"
      },
      "outputs": [],
      "source": [
        "#For Storing the accuracies obtained by employing various ML models\n",
        "accuracies = {}"
      ]
    },
    {
      "cell_type": "markdown",
      "metadata": {
        "id": "ab1H0BvrHGFz"
      },
      "source": [
        "#*Support Vector Classifier*"
      ]
    },
    {
      "cell_type": "code",
      "source": [
        "from sklearn.svm import SVC\n",
        "from sklearn.metrics import confusion_matrix, classification_report, accuracy_score\n",
        "from sklearn.model_selection import cross_val_score\n",
        "\n",
        "SV = SVC(kernel = 'linear')\n",
        "SV.fit(X_train, y_train)\n",
        "\n",
        "# Predicting the Test set results\n",
        "y_predSV = SV.predict(X_test)"
      ],
      "metadata": {
        "id": "mJ3x6Dm-ycmX"
      },
      "execution_count": null,
      "outputs": []
    },
    {
      "cell_type": "code",
      "source": [
        "#Classification Reports\n",
        "print(\"CLASSIFICATION REPORT:\\n\"+classification_report(y_predSV,y_test))\n",
        "accuracies['SVM'] = SV.score(X_test,y_test)*100\n",
        "\n",
        "cm_SV = confusion_matrix(y_predSV,y_test)"
      ],
      "metadata": {
        "colab": {
          "base_uri": "https://localhost:8080/"
        },
        "id": "_Yc49nIX3QlS",
        "outputId": "18692a21-ff4b-4426-a048-3a0011388853"
      },
      "execution_count": null,
      "outputs": [
        {
          "output_type": "stream",
          "name": "stdout",
          "text": [
            "CLASSIFICATION REPORT:\n",
            "              precision    recall  f1-score   support\n",
            "\n",
            "           0       0.88      0.91      0.89        32\n",
            "           1       0.89      0.86      0.88        29\n",
            "\n",
            "    accuracy                           0.89        61\n",
            "   macro avg       0.89      0.88      0.88        61\n",
            "weighted avg       0.89      0.89      0.89        61\n",
            "\n"
          ]
        }
      ]
    },
    {
      "cell_type": "code",
      "execution_count": null,
      "metadata": {
        "colab": {
          "base_uri": "https://localhost:8080/"
        },
        "id": "DkmXs5Plad9M",
        "outputId": "61f291d2-fee0-482c-8ac1-7c6cb5a65a9d"
      },
      "outputs": [
        {
          "output_type": "stream",
          "name": "stdout",
          "text": [
            "[0.83606557 0.90163934 0.78333333 0.81666667 0.78333333]\n",
            "Average 5-Fold CV Score: 0.8242076502732241 \n",
            "Standard deviation: 0.04366821175189989\n"
          ]
        }
      ],
      "source": [
        "cv_results = cross_val_score(SV, X , y, cv=5)\n",
        "print (cv_results)\n",
        "\n",
        "print(\"Average 5-Fold CV Score: {}\".format(np.mean(cv_results)), \n",
        "      \"\\nStandard deviation: {}\".format(np.std(cv_results)))"
      ]
    },
    {
      "cell_type": "markdown",
      "metadata": {
        "id": "S8xXiJwETcJD"
      },
      "source": [
        "#*Logistic Regression*"
      ]
    },
    {
      "cell_type": "code",
      "execution_count": null,
      "metadata": {
        "id": "SFxHhmx5TsET"
      },
      "outputs": [],
      "source": [
        "from sklearn.linear_model import LogisticRegression\n",
        "\n",
        "LR = LogisticRegression()\n",
        "LR.fit(X_train, y_train)\n",
        "\n",
        "# Predicting the test set results\n",
        "y_pred_testLR = LR.predict(X_test)"
      ]
    },
    {
      "cell_type": "code",
      "source": [
        "#Classification Reports\n",
        "print(\"CLASSIFICATION REPORT:\\n\"+classification_report(y_pred_testLR,y_test))\n",
        "accuracies['Logistic Regression'] = LR.score(X_test,y_test)*100\n",
        "\n",
        "cm_LR = confusion_matrix(y_test,y_pred_testLR)"
      ],
      "metadata": {
        "colab": {
          "base_uri": "https://localhost:8080/"
        },
        "id": "TODlqu8zzXyn",
        "outputId": "fb879542-60e4-4b32-a474-8898f8b20daa"
      },
      "execution_count": null,
      "outputs": [
        {
          "output_type": "stream",
          "name": "stdout",
          "text": [
            "CLASSIFICATION REPORT:\n",
            "              precision    recall  f1-score   support\n",
            "\n",
            "           0       0.85      0.93      0.89        30\n",
            "           1       0.93      0.84      0.88        31\n",
            "\n",
            "    accuracy                           0.89        61\n",
            "   macro avg       0.89      0.89      0.89        61\n",
            "weighted avg       0.89      0.89      0.89        61\n",
            "\n"
          ]
        }
      ]
    },
    {
      "cell_type": "code",
      "execution_count": null,
      "metadata": {
        "colab": {
          "base_uri": "https://localhost:8080/"
        },
        "id": "6TnwNmuragqd",
        "outputId": "01ed6e9c-8610-4286-d7c5-83fcebfa7513"
      },
      "outputs": [
        {
          "output_type": "stream",
          "name": "stdout",
          "text": [
            "[0.85245902 0.85245902 0.8        0.83333333 0.75      ]\n",
            "Average 5-Fold CV Score: 0.8176502732240436 \n",
            "Standard deviation: 0.03887762129716553\n"
          ]
        }
      ],
      "source": [
        "cv_results = cross_val_score(LR, X , y, cv=5)\n",
        "print (cv_results)\n",
        "\n",
        "print(\"Average 5-Fold CV Score: {}\".format(np.mean(cv_results)), \n",
        "      \"\\nStandard deviation: {}\".format(np.std(cv_results)))"
      ]
    },
    {
      "cell_type": "markdown",
      "metadata": {
        "id": "8h8v5EcyUQ6I"
      },
      "source": [
        "#*Naive Bayes Classifier*"
      ]
    },
    {
      "cell_type": "code",
      "execution_count": null,
      "metadata": {
        "id": "I8s-YE0XTyCA"
      },
      "outputs": [],
      "source": [
        "from sklearn.naive_bayes import GaussianNB\n",
        "\n",
        "GNB = GaussianNB()\n",
        "GNB.fit(X_train, y_train)\n",
        "\n",
        "# Predicting the Test set results\n",
        "y_pred_testGNB = GNB.predict(X_test)"
      ]
    },
    {
      "cell_type": "code",
      "source": [
        "#Classification Reports\n",
        "print(\"CLASSIFICATION REPORT:\\n\"+classification_report(y_pred_testGNB,y_test))\n",
        "accuracies['Naive Bayes'] = GNB.score(X_test,y_test)*100\n",
        "\n",
        "cm_NB = confusion_matrix(y_pred_testGNB,y_test)"
      ],
      "metadata": {
        "colab": {
          "base_uri": "https://localhost:8080/"
        },
        "id": "-ApYK4MO3Xx5",
        "outputId": "0081049d-a456-4c48-959e-7476812b94b5"
      },
      "execution_count": null,
      "outputs": [
        {
          "output_type": "stream",
          "name": "stdout",
          "text": [
            "CLASSIFICATION REPORT:\n",
            "              precision    recall  f1-score   support\n",
            "\n",
            "           0       0.82      0.90      0.86        30\n",
            "           1       0.89      0.81      0.85        31\n",
            "\n",
            "    accuracy                           0.85        61\n",
            "   macro avg       0.86      0.85      0.85        61\n",
            "weighted avg       0.86      0.85      0.85        61\n",
            "\n"
          ]
        }
      ]
    },
    {
      "cell_type": "code",
      "execution_count": null,
      "metadata": {
        "colab": {
          "base_uri": "https://localhost:8080/"
        },
        "id": "2DMNHiQzail0",
        "outputId": "19abe088-c5db-467e-9c36-bc49546cf62f"
      },
      "outputs": [
        {
          "output_type": "stream",
          "name": "stdout",
          "text": [
            "[0.78688525 0.6557377  0.81666667 0.88333333 0.66666667]\n",
            "Average 5-Fold CV Score: 0.7618579234972677 \n",
            "Standard deviation: 0.08798808619088798\n"
          ]
        }
      ],
      "source": [
        "cv_results = cross_val_score(GNB, X , y, cv=5)\n",
        "print (cv_results)\n",
        "\n",
        "print(\"Average 5-Fold CV Score: {}\".format(np.mean(cv_results)), \n",
        "      \"\\nStandard deviation: {}\".format(np.std(cv_results)))"
      ]
    },
    {
      "cell_type": "markdown",
      "metadata": {
        "id": "dZd3w_qUVeUi"
      },
      "source": [
        "#*Random Forest Classifier*"
      ]
    },
    {
      "cell_type": "code",
      "execution_count": null,
      "metadata": {
        "id": "hTP_iRQ5TyPq"
      },
      "outputs": [],
      "source": [
        "from sklearn.ensemble import RandomForestClassifier\n",
        "\n",
        "RF = RandomForestClassifier(n_estimators = 1000,random_state=1)\n",
        "RF.fit(X_train, y_train)\n",
        "\n",
        "# Predicting the Test set results\n",
        "y_pred_RF = RF.predict(X_test)"
      ]
    },
    {
      "cell_type": "code",
      "source": [
        "#Classification Report\n",
        "print(\"CLASSIFICATION REPORT:\\n\"+classification_report(y_pred_RF,y_test))\n",
        "accuracies['Random Forest'] = RF.score(X_test,y_test)*100\n",
        "\n",
        "cm_RF = confusion_matrix(y_pred_RF,y_test)"
      ],
      "metadata": {
        "colab": {
          "base_uri": "https://localhost:8080/"
        },
        "id": "Sq0RjdD03cQt",
        "outputId": "6ad3f485-ae41-43e0-f963-b7618b7ca21e"
      },
      "execution_count": null,
      "outputs": [
        {
          "output_type": "stream",
          "name": "stdout",
          "text": [
            "CLASSIFICATION REPORT:\n",
            "              precision    recall  f1-score   support\n",
            "\n",
            "           0       0.82      0.90      0.86        30\n",
            "           1       0.89      0.81      0.85        31\n",
            "\n",
            "    accuracy                           0.85        61\n",
            "   macro avg       0.86      0.85      0.85        61\n",
            "weighted avg       0.86      0.85      0.85        61\n",
            "\n"
          ]
        }
      ]
    },
    {
      "cell_type": "code",
      "execution_count": null,
      "metadata": {
        "colab": {
          "base_uri": "https://localhost:8080/"
        },
        "id": "SbrjDJtHYTLv",
        "outputId": "7cb4be00-1ae6-44b3-9beb-93f1c1a0075d"
      },
      "outputs": [
        {
          "output_type": "stream",
          "name": "stdout",
          "text": [
            "[0.83606557 0.90163934 0.8        0.8        0.78333333]\n",
            "Average 5-Fold CV Score: 0.8242076502732241 \n",
            "Standard deviation: 0.04237689944412704\n"
          ]
        }
      ],
      "source": [
        "cv_results = cross_val_score(RF, X , y, cv=5)\n",
        "print (cv_results)\n",
        "\n",
        "print(\"Average 5-Fold CV Score: {}\".format(np.mean(cv_results)), \n",
        "      \"\\nStandard deviation: {}\".format(np.std(cv_results)))"
      ]
    },
    {
      "cell_type": "markdown",
      "source": [
        "#*K-Nearest Neighbour Classification*"
      ],
      "metadata": {
        "id": "adCLeCKNpSmB"
      }
    },
    {
      "cell_type": "code",
      "source": [
        "from sklearn.neighbors import KNeighborsClassifier\n",
        "\n",
        "#to find best k value\n",
        "scoreList = []\n",
        "for i in range(1,20):\n",
        "    knn = KNeighborsClassifier(n_neighbors = i)\n",
        "    knn.fit(X_train, y_train)\n",
        "    scoreList.append(knn.score(X_test, y_test))\n",
        "    \n",
        "plt.plot(range(1,20), scoreList)\n",
        "plt.xticks(np.arange(1,20,1))\n",
        "plt.xlabel(\"K-value\")\n",
        "plt.ylabel(\"Score\")\n",
        "plt.show()\n",
        "\n",
        "acc = max(scoreList)*100\n",
        "accuracies['KNN'] = acc"
      ],
      "metadata": {
        "colab": {
          "base_uri": "https://localhost:8080/",
          "height": 278
        },
        "id": "7aad9982oCcM",
        "outputId": "35b2a15f-3f13-4150-a1ff-f2e440f92e9c"
      },
      "execution_count": null,
      "outputs": [
        {
          "output_type": "display_data",
          "data": {
            "image/png": "[encoded data removed]",
            "text/plain": [
              "<Figure size 432x288 with 1 Axes>"
            ]
          },
          "metadata": {
            "needs_background": "light"
          }
        }
      ]
    },
    {
      "cell_type": "code",
      "source": [
        "KNN = KNeighborsClassifier(n_neighbors = 7)  # n_neighbors means the highest value of k.Here, k=7\n",
        "KNN.fit(X_train, y_train)\n",
        "\n",
        "y_pred_KNN = KNN.predict(X_test)\n",
        "\n",
        "print(\"CLASSIFICATION REPORT:\\n\"+classification_report(y_test, y_pred_KNN))\n",
        "\n",
        "cm_KNN = confusion_matrix(y_pred_KNN,y_test)"
      ],
      "metadata": {
        "colab": {
          "base_uri": "https://localhost:8080/"
        },
        "id": "eAZyDfOCoSBl",
        "outputId": "0751f9e9-fcfd-4ae8-b408-a91bbbf949c7"
      },
      "execution_count": null,
      "outputs": [
        {
          "output_type": "stream",
          "name": "stdout",
          "text": [
            "CLASSIFICATION REPORT:\n",
            "              precision    recall  f1-score   support\n",
            "\n",
            "           0       0.90      0.85      0.88        33\n",
            "           1       0.83      0.89      0.86        28\n",
            "\n",
            "    accuracy                           0.87        61\n",
            "   macro avg       0.87      0.87      0.87        61\n",
            "weighted avg       0.87      0.87      0.87        61\n",
            "\n"
          ]
        }
      ]
    },
    {
      "cell_type": "markdown",
      "source": [
        "#**Comparing the Models**"
      ],
      "metadata": {
        "id": "JcMI4f1o0JYY"
      }
    },
    {
      "cell_type": "code",
      "source": [
        "#Accuracy Comparison\n",
        "\n",
        "sns.set_style(\"whitegrid\")\n",
        "plt.figure(figsize=(14,8))\n",
        "plt.yticks(np.arange(0,100,10))\n",
        "plt.ylabel(\"Accuracy %\")\n",
        "plt.xlabel(\"Algorithms\")\n",
        "sns.barplot(x=list(accuracies.keys()), y=list(accuracies.values()), palette='Blues')\n",
        "plt.show()"
      ],
      "metadata": {
        "colab": {
          "base_uri": "https://localhost:8080/",
          "height": 497
        },
        "id": "BZx7aVOLmPKd",
        "outputId": "013eb571-ca07-4e8a-f13c-174ed20741ea"
      },
      "execution_count": null,
      "outputs": [
        {
          "output_type": "display_data",
          "data": {
            "image/png": "[encoded data removed]",
            "text/plain": [
              "<Figure size 1008x576 with 1 Axes>"
            ]
          },
          "metadata": {}
        }
      ]
    },
    {
      "cell_type": "code",
      "source": [
        "#Comparison on Confusion Matrices\n",
        "\n",
        "plt.figure(figsize=(24,12))\n",
        "\n",
        "plt.suptitle(\"CONFUSION MATRICES\",fontsize = 30)\n",
        "plt.subplots_adjust(wspace = 0.4, hspace= 0.4)\n",
        "\n",
        "plt.subplot(2,3,1)\n",
        "plt.title(\"SUPPORT VECTOR CLASSIFIER\")\n",
        "sns.heatmap(cm_SV,annot=True,fmt=\"d\",cbar=False, annot_kws={\"size\": 24})\n",
        "\n",
        "plt.subplot(2,3,2)\n",
        "plt.title(\"LOGISTIC REGRESSION\")\n",
        "sns.heatmap(cm_LR,annot=True,fmt=\"d\",cbar=False, annot_kws={\"size\": 24})\n",
        "\n",
        "plt.subplot(2,3,3)\n",
        "plt.title(\"NAIVE BAYES CLASSIFIER\")\n",
        "sns.heatmap(cm_NB,annot=True,fmt=\"d\",cbar=False, annot_kws={\"size\": 24})\n",
        "\n",
        "plt.subplot(2,3,4)\n",
        "plt.title(\"RANDOM FOREST CLASSIFIER\")\n",
        "sns.heatmap(cm_RF,annot=True,fmt=\"d\",cbar=False, annot_kws={\"size\": 24})\n",
        "\n",
        "plt.subplot(2,3,5)\n",
        "plt.title(\"KNN\")\n",
        "sns.heatmap(cm_KNN,annot=True,fmt=\"d\",cbar=False, annot_kws={\"size\": 24})"
      ],
      "metadata": {
        "colab": {
          "base_uri": "https://localhost:8080/",
          "height": 756
        },
        "id": "XLehBIBjpf8c",
        "outputId": "8976525b-378f-4043-dfd8-55e5737d3356"
      },
      "execution_count": null,
      "outputs": [
        {
          "output_type": "execute_result",
          "data": {
            "text/plain": [
              "<matplotlib.axes._subplots.AxesSubplot at 0x7fb8f07f5850>"
            ]
          },
          "metadata": {},
          "execution_count": 47
        },
        {
          "output_type": "display_data",
          "data": {
            "image/png": "[encoded data removed]",
            "text/plain": [
              "<Figure size 1728x864 with 5 Axes>"
            ]
          },
          "metadata": {}
        }
      ]
    }
  ]
}