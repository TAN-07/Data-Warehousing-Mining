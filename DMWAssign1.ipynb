{
  "nbformat": 4,
  "nbformat_minor": 0,
  "metadata": {
    "colab": {
      "name": "DMWAssign1.ipynb",
      "provenance": [],
      "collapsed_sections": [],
      "authorship_tag": "ABX9TyOM5fStWss+S+UPkEDytPD9",
      "include_colab_link": true
    },
    "kernelspec": {
      "name": "python3",
      "display_name": "Python 3"
    },
    "language_info": {
      "name": "python"
    }
  },
  "cells": [
    {
      "cell_type": "markdown",
      "metadata": {
        "id": "view-in-github",
        "colab_type": "text"
      },
      "source": [
        "<a href=\"https://colab.research.google.com/github/TAN-07/Data-Warehousing-Mining/blob/main/DMWAssign1.ipynb\" target=\"_parent\"><img src=\"https://colab.research.google.com/assets/colab-badge.svg\" alt=\"Open In Colab\"/></a>"
      ]
    },
    {
      "cell_type": "markdown",
      "metadata": {
        "id": "jm2LPBI1Dqar"
      },
      "source": [
        "# **Assignment No. 01**\n",
        "\n",
        "   Written by Tanvi Nirmal\n",
        "   \n",
        "   B.E.(Comp.)- B15"
      ]
    },
    {
      "cell_type": "markdown",
      "metadata": {
        "id": "wCR8WGTGNiT5"
      },
      "source": [
        "# Question No. 1)\n",
        "\n",
        "From sklearn.datasets load digits dataset and do following:\n",
        "* Classify digits (0 to 9) using KNN classifier. You can use different\n",
        "values for k neighbors and need to figure out a value of K that gives\n",
        "you a maximum score. You can manually try different values of K or\n",
        "use gridsearchcv\n",
        "* Plot confusion matrix\n",
        "* Plot classification report"
      ]
    },
    {
      "cell_type": "code",
      "metadata": {
        "id": "g4SOzfU8D99T"
      },
      "source": [
        "# import the necessary packages\n",
        "from __future__ import print_function\n",
        "from sklearn.model_selection import train_test_split\n",
        "from sklearn.neighbors import KNeighborsClassifier\n",
        "from sklearn.metrics import confusion_matrix\n",
        "from sklearn.metrics import classification_report\n",
        "from sklearn import datasets\n",
        "from skimage import exposure\n",
        "import numpy as np\n",
        "import cv2\n",
        "import matplotlib.pyplot as plt\n"
      ],
      "execution_count": null,
      "outputs": []
    },
    {
      "cell_type": "code",
      "metadata": {
        "id": "dO74s2NIGGxY"
      },
      "source": [
        "# load the MNIST digits dataset\n",
        "mnist = datasets.load_digits()\n",
        "\n",
        "# take the MNIST data and construct the training and testing split, using 85% of the\n",
        "# data for training and 15% for testing\n",
        "\n",
        "(trainData, testData, trainLabels, testLabels) = train_test_split(np.array(mnist.data),\n",
        "mnist.target, test_size=0.15, random_state=42)\n",
        "\n",
        "# now, let's take 10% of the training data and use that for validation\n",
        "\n",
        "(trainData, valData, trainLabels, valLabels) = train_test_split(trainData, trainLabels,\n",
        "test_size=0.1, random_state=84)"
      ],
      "execution_count": null,
      "outputs": []
    },
    {
      "cell_type": "code",
      "metadata": {
        "colab": {
          "base_uri": "https://localhost:8080/"
        },
        "id": "RK_AG8gnGYkE",
        "outputId": "0d5ba4b3-2f42-4a58-a879-5d63b767937d"
      },
      "source": [
        "# show the sizes of each data split\n",
        "\n",
        "print(\"training data points: {}\".format(len(trainLabels)))\n",
        "print(\"testing data points: {}\".format(len(testLabels)))\n",
        "print(\"validation data points: {}\".format(len(valLabels)))"
      ],
      "execution_count": null,
      "outputs": [
        {
          "output_type": "stream",
          "name": "stdout",
          "text": [
            "training data points: 1374\n",
            "testing data points: 270\n",
            "validation data points: 153\n"
          ]
        }
      ]
    },
    {
      "cell_type": "code",
      "metadata": {
        "colab": {
          "base_uri": "https://localhost:8080/"
        },
        "id": "gTTZ_I8uIR9P",
        "outputId": "64ee1948-e409-4127-9aef-401ca2b14665"
      },
      "source": [
        "# initialize the values of k for our k-Nearest Neighbor classifier along with the\n",
        "# list of accuracies for each value of k\n",
        "\n",
        "kList = range(1, 50, 2)\n",
        "accuracies = []\n",
        "\n",
        "# loop over various values of k for the k-Nearest Neighbor classifier\n",
        "\n",
        "for k in range(1, 50, 2):\n",
        "          # train the k-Nearest Neighbor classifier with the current value of k\n",
        "          model = KNeighborsClassifier(n_neighbors=k)\n",
        "          model.fit(trainData, trainLabels)\n",
        "          # evaluate the model and update the accuracies list\n",
        "          score = model.score(valData, valLabels)\n",
        "          print(\"For k=%d, accuracy = %.2f%%\" % (k, score * 100))\n",
        "          accuracies.append(score)"
      ],
      "execution_count": null,
      "outputs": [
        {
          "output_type": "stream",
          "name": "stdout",
          "text": [
            "For k=1, accuracy = 98.04%\n",
            "For k=3, accuracy = 98.69%\n",
            "For k=5, accuracy = 98.69%\n",
            "For k=7, accuracy = 96.73%\n",
            "For k=9, accuracy = 98.04%\n",
            "For k=11, accuracy = 97.39%\n",
            "For k=13, accuracy = 97.39%\n",
            "For k=15, accuracy = 97.39%\n",
            "For k=17, accuracy = 96.73%\n",
            "For k=19, accuracy = 96.08%\n",
            "For k=21, accuracy = 96.73%\n",
            "For k=23, accuracy = 96.08%\n",
            "For k=25, accuracy = 96.08%\n",
            "For k=27, accuracy = 95.42%\n",
            "For k=29, accuracy = 94.77%\n",
            "For k=31, accuracy = 94.77%\n",
            "For k=33, accuracy = 94.77%\n",
            "For k=35, accuracy = 94.77%\n",
            "For k=37, accuracy = 94.77%\n",
            "For k=39, accuracy = 94.12%\n",
            "For k=41, accuracy = 94.12%\n",
            "For k=43, accuracy = 92.81%\n",
            "For k=45, accuracy = 92.16%\n",
            "For k=47, accuracy = 92.16%\n",
            "For k=49, accuracy = 92.16%\n"
          ]
        }
      ]
    },
    {
      "cell_type": "code",
      "metadata": {
        "colab": {
          "base_uri": "https://localhost:8080/"
        },
        "id": "G-Rom8iAJV-u",
        "outputId": "7a20f8cd-c8c8-41db-879f-8127c058a950"
      },
      "source": [
        "# find the value of k that has the largest accuracy\n",
        "\n",
        "i = np.argmax(accuracies)\n",
        "print(\"k=%d achieved highest accuracy of %.2f%% on validation data\" % (kVals[i],\n",
        "accuracies[i] * 100))"
      ],
      "execution_count": null,
      "outputs": [
        {
          "output_type": "stream",
          "name": "stdout",
          "text": [
            "k=3 achieved highest accuracy of 98.69% on validation data\n"
          ]
        }
      ]
    },
    {
      "cell_type": "code",
      "metadata": {
        "colab": {
          "base_uri": "https://localhost:8080/"
        },
        "id": "LIt8IjO_Ju-p",
        "outputId": "e348b287-88d9-4c0d-b6da-faba14caf56b"
      },
      "source": [
        "# re-train our classifier using the best k value and predict the labels of the\n",
        "# test data\n",
        "\n",
        "model = KNeighborsClassifier(n_neighbors=kList[i])\n",
        "model.fit(trainData, trainLabels)\n",
        "predictions = model.predict(testData)\n",
        "print(predictions[1])"
      ],
      "execution_count": null,
      "outputs": [
        {
          "output_type": "stream",
          "name": "stdout",
          "text": [
            "9\n"
          ]
        }
      ]
    },
    {
      "cell_type": "code",
      "metadata": {
        "colab": {
          "base_uri": "https://localhost:8080/"
        },
        "id": "sz8PsGDMKESy",
        "outputId": "d83a10f5-2ca1-4555-adb2-97616806acb5"
      },
      "source": [
        "# show a final classification report demonstrating the accuracy of the classifier\n",
        "# for each of the digits\n",
        "\n",
        "print(\"EVALUATION ON TESTING DATA\\n\")\n",
        "print(classification_report(testLabels, predictions))\n",
        "\n",
        "print (\"------- Confusion matrix -------\")\n",
        "print(confusion_matrix(testLabels,predictions))"
      ],
      "execution_count": null,
      "outputs": [
        {
          "output_type": "stream",
          "name": "stdout",
          "text": [
            "EVALUATION ON TESTING DATA\n",
            "\n",
            "              precision    recall  f1-score   support\n",
            "\n",
            "           0       1.00      1.00      1.00        23\n",
            "           1       0.95      1.00      0.97        18\n",
            "           2       1.00      1.00      1.00        26\n",
            "           3       1.00      1.00      1.00        24\n",
            "           4       0.97      1.00      0.99        37\n",
            "           5       0.97      1.00      0.99        33\n",
            "           6       1.00      1.00      1.00        30\n",
            "           7       1.00      0.96      0.98        26\n",
            "           8       0.95      0.95      0.95        19\n",
            "           9       0.97      0.91      0.94        34\n",
            "\n",
            "    accuracy                           0.98       270\n",
            "   macro avg       0.98      0.98      0.98       270\n",
            "weighted avg       0.98      0.98      0.98       270\n",
            "\n",
            "------- Confusion matrix -------\n",
            "[[23  0  0  0  0  0  0  0  0  0]\n",
            " [ 0 18  0  0  0  0  0  0  0  0]\n",
            " [ 0  0 26  0  0  0  0  0  0  0]\n",
            " [ 0  0  0 24  0  0  0  0  0  0]\n",
            " [ 0  0  0  0 37  0  0  0  0  0]\n",
            " [ 0  0  0  0  0 33  0  0  0  0]\n",
            " [ 0  0  0  0  0  0 30  0  0  0]\n",
            " [ 0  0  0  0  0  0  0 25  0  1]\n",
            " [ 0  1  0  0  0  0  0  0 18  0]\n",
            " [ 0  0  0  0  1  1  0  0  1 31]]\n"
          ]
        }
      ]
    },
    {
      "cell_type": "code",
      "metadata": {
        "colab": {
          "base_uri": "https://localhost:8080/",
          "height": 1000
        },
        "id": "-9FHm3b2Maxh",
        "outputId": "16f4ce55-cc57-4646-8f58-d82ac7ae220d"
      },
      "source": [
        "# loop over a few random digits\n",
        "\n",
        "for i in np.random.randint(0, high=len(testLabels), size=(5,)):\n",
        "         # grab the image and classify it\n",
        "         image = testData[i]\n",
        "         prediction = model.predict([image])[0]\n",
        "         \n",
        "         # show the prediction\n",
        "         \n",
        "         imgdata = np.array(image, dtype='float')\n",
        "         pixels = imgdata.reshape((8,8))\n",
        "         plt.imshow(pixels,cmap='gray')\n",
        "         plt.annotate(prediction,(3,3),bbox={'facecolor':'white'},fontsize=16)\n",
        "         plt.show()\n",
        "         cv2.waitKey(0)\n",
        "         print(\"The digit may be : {}\\n\\n\".format(prediction))"
      ],
      "execution_count": null,
      "outputs": [
        {
          "output_type": "display_data",
          "data": {
            "image/png": "[encoded data removed]",
            "text/plain": [
              "<Figure size 432x288 with 1 Axes>"
            ]
          },
          "metadata": {
            "needs_background": "light"
          }
        },
        {
          "output_type": "stream",
          "name": "stdout",
          "text": [
            "The digit may be : 7\n",
            "\n",
            "\n"
          ]
        },
        {
          "output_type": "display_data",
          "data": {
            "image/png": "[encoded data removed]",
            "text/plain": [
              "<Figure size 432x288 with 1 Axes>"
            ]
          },
          "metadata": {
            "needs_background": "light"
          }
        },
        {
          "output_type": "stream",
          "name": "stdout",
          "text": [
            "The digit may be : 1\n",
            "\n",
            "\n"
          ]
        },
        {
          "output_type": "display_data",
          "data": {
            "image/png": "[encoded data removed]",
            "text/plain": [
              "<Figure size 432x288 with 1 Axes>"
            ]
          },
          "metadata": {
            "needs_background": "light"
          }
        },
        {
          "output_type": "stream",
          "name": "stdout",
          "text": [
            "The digit may be : 0\n",
            "\n",
            "\n"
          ]
        },
        {
          "output_type": "display_data",
          "data": {
            "image/png": "[encoded data removed]",
            "text/plain": [
              "<Figure size 432x288 with 1 Axes>"
            ]
          },
          "metadata": {
            "needs_background": "light"
          }
        },
        {
          "output_type": "stream",
          "name": "stdout",
          "text": [
            "The digit may be : 6\n",
            "\n",
            "\n"
          ]
        },
        {
          "output_type": "display_data",
          "data": {
            "image/png": "[encoded data removed]",
            "text/plain": [
              "<Figure size 432x288 with 1 Axes>"
            ]
          },
          "metadata": {
            "needs_background": "light"
          }
        },
        {
          "output_type": "stream",
          "name": "stdout",
          "text": [
            "The digit may be : 7\n",
            "\n",
            "\n"
          ]
        }
      ]
    },
    {
      "cell_type": "code",
      "metadata": {
        "id": "wJxycnAtNU4n"
      },
      "source": [
        ""
      ],
      "execution_count": null,
      "outputs": []
    },
    {
      "cell_type": "markdown",
      "metadata": {
        "id": "MpIrTZL-ONOi"
      },
      "source": [
        "# Question No. 2)\n",
        "\n",
        "Build decision tree model to predict survival based on certain parameters\n",
        "CSV file is available to download at  https://www.kaggle.com/c/titanic/data\n",
        "In this file using following columns build a model to predict if person would\n",
        "survive or not,\n",
        "1. Pclass\n",
        "2. Sex\n",
        "3. Age\n",
        "4. Fare\n",
        "\n",
        "Calculate score of your model."
      ]
    },
    {
      "cell_type": "code",
      "metadata": {
        "id": "aDt3LPfPOooo"
      },
      "source": [
        "import pandas as pd\n",
        "url = \"https://raw.githubusercontent.com/TAN-07/Data-Warehousing-Mining/main/train.csv\""
      ],
      "execution_count": 63,
      "outputs": []
    },
    {
      "cell_type": "code",
      "metadata": {
        "id": "EV9ezvEWPvTU"
      },
      "source": [
        "titanic = pd.read_csv(url)          #dataframe"
      ],
      "execution_count": 91,
      "outputs": []
    },
    {
      "cell_type": "code",
      "metadata": {
        "colab": {
          "base_uri": "https://localhost:8080/",
          "height": 206
        },
        "id": "FQ-hftkMS2py",
        "outputId": "87b69d13-f6d7-4249-afff-98b96f0f5366"
      },
      "source": [
        "titanic.head()"
      ],
      "execution_count": 92,
      "outputs": [
        {
          "output_type": "execute_result",
          "data": {
            "text/html": [
              "<div>\n",
              "<style scoped>\n",
              "    .dataframe tbody tr th:only-of-type {\n",
              "        vertical-align: middle;\n",
              "    }\n",
              "\n",
              "    .dataframe tbody tr th {\n",
              "        vertical-align: top;\n",
              "    }\n",
              "\n",
              "    .dataframe thead th {\n",
              "        text-align: right;\n",
              "    }\n",
              "</style>\n",
              "<table border=\"1\" class=\"dataframe\">\n",
              "  <thead>\n",
              "    <tr style=\"text-align: right;\">\n",
              "      <th></th>\n",
              "      <th>PassengerId</th>\n",
              "      <th>Survived</th>\n",
              "      <th>Pclass</th>\n",
              "      <th>Name</th>\n",
              "      <th>Sex</th>\n",
              "      <th>Age</th>\n",
              "      <th>SibSp</th>\n",
              "      <th>Parch</th>\n",
              "      <th>Ticket</th>\n",
              "      <th>Fare</th>\n",
              "      <th>Cabin</th>\n",
              "      <th>Embarked</th>\n",
              "    </tr>\n",
              "  </thead>\n",
              "  <tbody>\n",
              "    <tr>\n",
              "      <th>0</th>\n",
              "      <td>1</td>\n",
              "      <td>0</td>\n",
              "      <td>3</td>\n",
              "      <td>Braund, Mr. Owen Harris</td>\n",
              "      <td>male</td>\n",
              "      <td>22.0</td>\n",
              "      <td>1</td>\n",
              "      <td>0</td>\n",
              "      <td>A/5 21171</td>\n",
              "      <td>7.2500</td>\n",
              "      <td>NaN</td>\n",
              "      <td>S</td>\n",
              "    </tr>\n",
              "    <tr>\n",
              "      <th>1</th>\n",
              "      <td>2</td>\n",
              "      <td>1</td>\n",
              "      <td>1</td>\n",
              "      <td>Cumings, Mrs. John Bradley (Florence Briggs Th...</td>\n",
              "      <td>female</td>\n",
              "      <td>38.0</td>\n",
              "      <td>1</td>\n",
              "      <td>0</td>\n",
              "      <td>PC 17599</td>\n",
              "      <td>71.2833</td>\n",
              "      <td>C85</td>\n",
              "      <td>C</td>\n",
              "    </tr>\n",
              "    <tr>\n",
              "      <th>2</th>\n",
              "      <td>3</td>\n",
              "      <td>1</td>\n",
              "      <td>3</td>\n",
              "      <td>Heikkinen, Miss. Laina</td>\n",
              "      <td>female</td>\n",
              "      <td>26.0</td>\n",
              "      <td>0</td>\n",
              "      <td>0</td>\n",
              "      <td>STON/O2. 3101282</td>\n",
              "      <td>7.9250</td>\n",
              "      <td>NaN</td>\n",
              "      <td>S</td>\n",
              "    </tr>\n",
              "    <tr>\n",
              "      <th>3</th>\n",
              "      <td>4</td>\n",
              "      <td>1</td>\n",
              "      <td>1</td>\n",
              "      <td>Futrelle, Mrs. Jacques Heath (Lily May Peel)</td>\n",
              "      <td>female</td>\n",
              "      <td>35.0</td>\n",
              "      <td>1</td>\n",
              "      <td>0</td>\n",
              "      <td>113803</td>\n",
              "      <td>53.1000</td>\n",
              "      <td>C123</td>\n",
              "      <td>S</td>\n",
              "    </tr>\n",
              "    <tr>\n",
              "      <th>4</th>\n",
              "      <td>5</td>\n",
              "      <td>0</td>\n",
              "      <td>3</td>\n",
              "      <td>Allen, Mr. William Henry</td>\n",
              "      <td>male</td>\n",
              "      <td>35.0</td>\n",
              "      <td>0</td>\n",
              "      <td>0</td>\n",
              "      <td>373450</td>\n",
              "      <td>8.0500</td>\n",
              "      <td>NaN</td>\n",
              "      <td>S</td>\n",
              "    </tr>\n",
              "  </tbody>\n",
              "</table>\n",
              "</div>"
            ],
            "text/plain": [
              "   PassengerId  Survived  Pclass  ...     Fare Cabin  Embarked\n",
              "0            1         0       3  ...   7.2500   NaN         S\n",
              "1            2         1       1  ...  71.2833   C85         C\n",
              "2            3         1       3  ...   7.9250   NaN         S\n",
              "3            4         1       1  ...  53.1000  C123         S\n",
              "4            5         0       3  ...   8.0500   NaN         S\n",
              "\n",
              "[5 rows x 12 columns]"
            ]
          },
          "metadata": {},
          "execution_count": 92
        }
      ]
    },
    {
      "cell_type": "code",
      "metadata": {
        "colab": {
          "base_uri": "https://localhost:8080/",
          "height": 315
        },
        "id": "_ZrxUD7WTJVB",
        "outputId": "2428d2bb-7438-4d04-98c8-70b5a8714f25"
      },
      "source": [
        "#removing extra columns from dataset\n",
        "titanic = titanic[['Pclass','Sex','Age','Fare','Survived']]\n",
        "titanic['Sex'] = titanic['Sex'].apply(lambda x: 1 if x=='female' else 0)\n",
        "titanic.head()"
      ],
      "execution_count": 93,
      "outputs": [
        {
          "output_type": "stream",
          "name": "stderr",
          "text": [
            "/usr/local/lib/python3.7/dist-packages/ipykernel_launcher.py:3: SettingWithCopyWarning: \n",
            "A value is trying to be set on a copy of a slice from a DataFrame.\n",
            "Try using .loc[row_indexer,col_indexer] = value instead\n",
            "\n",
            "See the caveats in the documentation: https://pandas.pydata.org/pandas-docs/stable/user_guide/indexing.html#returning-a-view-versus-a-copy\n",
            "  This is separate from the ipykernel package so we can avoid doing imports until\n"
          ]
        },
        {
          "output_type": "execute_result",
          "data": {
            "text/html": [
              "<div>\n",
              "<style scoped>\n",
              "    .dataframe tbody tr th:only-of-type {\n",
              "        vertical-align: middle;\n",
              "    }\n",
              "\n",
              "    .dataframe tbody tr th {\n",
              "        vertical-align: top;\n",
              "    }\n",
              "\n",
              "    .dataframe thead th {\n",
              "        text-align: right;\n",
              "    }\n",
              "</style>\n",
              "<table border=\"1\" class=\"dataframe\">\n",
              "  <thead>\n",
              "    <tr style=\"text-align: right;\">\n",
              "      <th></th>\n",
              "      <th>Pclass</th>\n",
              "      <th>Sex</th>\n",
              "      <th>Age</th>\n",
              "      <th>Fare</th>\n",
              "      <th>Survived</th>\n",
              "    </tr>\n",
              "  </thead>\n",
              "  <tbody>\n",
              "    <tr>\n",
              "      <th>0</th>\n",
              "      <td>3</td>\n",
              "      <td>0</td>\n",
              "      <td>22.0</td>\n",
              "      <td>7.2500</td>\n",
              "      <td>0</td>\n",
              "    </tr>\n",
              "    <tr>\n",
              "      <th>1</th>\n",
              "      <td>1</td>\n",
              "      <td>1</td>\n",
              "      <td>38.0</td>\n",
              "      <td>71.2833</td>\n",
              "      <td>1</td>\n",
              "    </tr>\n",
              "    <tr>\n",
              "      <th>2</th>\n",
              "      <td>3</td>\n",
              "      <td>1</td>\n",
              "      <td>26.0</td>\n",
              "      <td>7.9250</td>\n",
              "      <td>1</td>\n",
              "    </tr>\n",
              "    <tr>\n",
              "      <th>3</th>\n",
              "      <td>1</td>\n",
              "      <td>1</td>\n",
              "      <td>35.0</td>\n",
              "      <td>53.1000</td>\n",
              "      <td>1</td>\n",
              "    </tr>\n",
              "    <tr>\n",
              "      <th>4</th>\n",
              "      <td>3</td>\n",
              "      <td>0</td>\n",
              "      <td>35.0</td>\n",
              "      <td>8.0500</td>\n",
              "      <td>0</td>\n",
              "    </tr>\n",
              "  </tbody>\n",
              "</table>\n",
              "</div>"
            ],
            "text/plain": [
              "   Pclass  Sex   Age     Fare  Survived\n",
              "0       3    0  22.0   7.2500         0\n",
              "1       1    1  38.0  71.2833         1\n",
              "2       3    1  26.0   7.9250         1\n",
              "3       1    1  35.0  53.1000         1\n",
              "4       3    0  35.0   8.0500         0"
            ]
          },
          "metadata": {},
          "execution_count": 93
        }
      ]
    },
    {
      "cell_type": "code",
      "metadata": {
        "colab": {
          "base_uri": "https://localhost:8080/",
          "height": 300
        },
        "id": "q-FIHn4oThTq",
        "outputId": "4c9dd465-4352-4b4f-8676-669d1dd912f1"
      },
      "source": [
        "titanic.describe()"
      ],
      "execution_count": 94,
      "outputs": [
        {
          "output_type": "execute_result",
          "data": {
            "text/html": [
              "<div>\n",
              "<style scoped>\n",
              "    .dataframe tbody tr th:only-of-type {\n",
              "        vertical-align: middle;\n",
              "    }\n",
              "\n",
              "    .dataframe tbody tr th {\n",
              "        vertical-align: top;\n",
              "    }\n",
              "\n",
              "    .dataframe thead th {\n",
              "        text-align: right;\n",
              "    }\n",
              "</style>\n",
              "<table border=\"1\" class=\"dataframe\">\n",
              "  <thead>\n",
              "    <tr style=\"text-align: right;\">\n",
              "      <th></th>\n",
              "      <th>Pclass</th>\n",
              "      <th>Sex</th>\n",
              "      <th>Age</th>\n",
              "      <th>Fare</th>\n",
              "      <th>Survived</th>\n",
              "    </tr>\n",
              "  </thead>\n",
              "  <tbody>\n",
              "    <tr>\n",
              "      <th>count</th>\n",
              "      <td>891.000000</td>\n",
              "      <td>891.000000</td>\n",
              "      <td>714.000000</td>\n",
              "      <td>891.000000</td>\n",
              "      <td>891.000000</td>\n",
              "    </tr>\n",
              "    <tr>\n",
              "      <th>mean</th>\n",
              "      <td>2.308642</td>\n",
              "      <td>0.352413</td>\n",
              "      <td>29.699118</td>\n",
              "      <td>32.204208</td>\n",
              "      <td>0.383838</td>\n",
              "    </tr>\n",
              "    <tr>\n",
              "      <th>std</th>\n",
              "      <td>0.836071</td>\n",
              "      <td>0.477990</td>\n",
              "      <td>14.526497</td>\n",
              "      <td>49.693429</td>\n",
              "      <td>0.486592</td>\n",
              "    </tr>\n",
              "    <tr>\n",
              "      <th>min</th>\n",
              "      <td>1.000000</td>\n",
              "      <td>0.000000</td>\n",
              "      <td>0.420000</td>\n",
              "      <td>0.000000</td>\n",
              "      <td>0.000000</td>\n",
              "    </tr>\n",
              "    <tr>\n",
              "      <th>25%</th>\n",
              "      <td>2.000000</td>\n",
              "      <td>0.000000</td>\n",
              "      <td>20.125000</td>\n",
              "      <td>7.910400</td>\n",
              "      <td>0.000000</td>\n",
              "    </tr>\n",
              "    <tr>\n",
              "      <th>50%</th>\n",
              "      <td>3.000000</td>\n",
              "      <td>0.000000</td>\n",
              "      <td>28.000000</td>\n",
              "      <td>14.454200</td>\n",
              "      <td>0.000000</td>\n",
              "    </tr>\n",
              "    <tr>\n",
              "      <th>75%</th>\n",
              "      <td>3.000000</td>\n",
              "      <td>1.000000</td>\n",
              "      <td>38.000000</td>\n",
              "      <td>31.000000</td>\n",
              "      <td>1.000000</td>\n",
              "    </tr>\n",
              "    <tr>\n",
              "      <th>max</th>\n",
              "      <td>3.000000</td>\n",
              "      <td>1.000000</td>\n",
              "      <td>80.000000</td>\n",
              "      <td>512.329200</td>\n",
              "      <td>1.000000</td>\n",
              "    </tr>\n",
              "  </tbody>\n",
              "</table>\n",
              "</div>"
            ],
            "text/plain": [
              "           Pclass         Sex         Age        Fare    Survived\n",
              "count  891.000000  891.000000  714.000000  891.000000  891.000000\n",
              "mean     2.308642    0.352413   29.699118   32.204208    0.383838\n",
              "std      0.836071    0.477990   14.526497   49.693429    0.486592\n",
              "min      1.000000    0.000000    0.420000    0.000000    0.000000\n",
              "25%      2.000000    0.000000   20.125000    7.910400    0.000000\n",
              "50%      3.000000    0.000000   28.000000   14.454200    0.000000\n",
              "75%      3.000000    1.000000   38.000000   31.000000    1.000000\n",
              "max      3.000000    1.000000   80.000000  512.329200    1.000000"
            ]
          },
          "metadata": {},
          "execution_count": 94
        }
      ]
    },
    {
      "cell_type": "code",
      "metadata": {
        "colab": {
          "base_uri": "https://localhost:8080/",
          "height": 300
        },
        "id": "Q6HCVIZKT0p-",
        "outputId": "684e089e-81bb-4764-c98d-dce529bc5297"
      },
      "source": [
        "#removing rows with missing values\n",
        "titanic = titanic.dropna()\n",
        "titanic.describe()"
      ],
      "execution_count": 95,
      "outputs": [
        {
          "output_type": "execute_result",
          "data": {
            "text/html": [
              "<div>\n",
              "<style scoped>\n",
              "    .dataframe tbody tr th:only-of-type {\n",
              "        vertical-align: middle;\n",
              "    }\n",
              "\n",
              "    .dataframe tbody tr th {\n",
              "        vertical-align: top;\n",
              "    }\n",
              "\n",
              "    .dataframe thead th {\n",
              "        text-align: right;\n",
              "    }\n",
              "</style>\n",
              "<table border=\"1\" class=\"dataframe\">\n",
              "  <thead>\n",
              "    <tr style=\"text-align: right;\">\n",
              "      <th></th>\n",
              "      <th>Pclass</th>\n",
              "      <th>Sex</th>\n",
              "      <th>Age</th>\n",
              "      <th>Fare</th>\n",
              "      <th>Survived</th>\n",
              "    </tr>\n",
              "  </thead>\n",
              "  <tbody>\n",
              "    <tr>\n",
              "      <th>count</th>\n",
              "      <td>714.000000</td>\n",
              "      <td>714.000000</td>\n",
              "      <td>714.000000</td>\n",
              "      <td>714.000000</td>\n",
              "      <td>714.000000</td>\n",
              "    </tr>\n",
              "    <tr>\n",
              "      <th>mean</th>\n",
              "      <td>2.236695</td>\n",
              "      <td>0.365546</td>\n",
              "      <td>29.699118</td>\n",
              "      <td>34.694514</td>\n",
              "      <td>0.406162</td>\n",
              "    </tr>\n",
              "    <tr>\n",
              "      <th>std</th>\n",
              "      <td>0.838250</td>\n",
              "      <td>0.481921</td>\n",
              "      <td>14.526497</td>\n",
              "      <td>52.918930</td>\n",
              "      <td>0.491460</td>\n",
              "    </tr>\n",
              "    <tr>\n",
              "      <th>min</th>\n",
              "      <td>1.000000</td>\n",
              "      <td>0.000000</td>\n",
              "      <td>0.420000</td>\n",
              "      <td>0.000000</td>\n",
              "      <td>0.000000</td>\n",
              "    </tr>\n",
              "    <tr>\n",
              "      <th>25%</th>\n",
              "      <td>1.000000</td>\n",
              "      <td>0.000000</td>\n",
              "      <td>20.125000</td>\n",
              "      <td>8.050000</td>\n",
              "      <td>0.000000</td>\n",
              "    </tr>\n",
              "    <tr>\n",
              "      <th>50%</th>\n",
              "      <td>2.000000</td>\n",
              "      <td>0.000000</td>\n",
              "      <td>28.000000</td>\n",
              "      <td>15.741700</td>\n",
              "      <td>0.000000</td>\n",
              "    </tr>\n",
              "    <tr>\n",
              "      <th>75%</th>\n",
              "      <td>3.000000</td>\n",
              "      <td>1.000000</td>\n",
              "      <td>38.000000</td>\n",
              "      <td>33.375000</td>\n",
              "      <td>1.000000</td>\n",
              "    </tr>\n",
              "    <tr>\n",
              "      <th>max</th>\n",
              "      <td>3.000000</td>\n",
              "      <td>1.000000</td>\n",
              "      <td>80.000000</td>\n",
              "      <td>512.329200</td>\n",
              "      <td>1.000000</td>\n",
              "    </tr>\n",
              "  </tbody>\n",
              "</table>\n",
              "</div>"
            ],
            "text/plain": [
              "           Pclass         Sex         Age        Fare    Survived\n",
              "count  714.000000  714.000000  714.000000  714.000000  714.000000\n",
              "mean     2.236695    0.365546   29.699118   34.694514    0.406162\n",
              "std      0.838250    0.481921   14.526497   52.918930    0.491460\n",
              "min      1.000000    0.000000    0.420000    0.000000    0.000000\n",
              "25%      1.000000    0.000000   20.125000    8.050000    0.000000\n",
              "50%      2.000000    0.000000   28.000000   15.741700    0.000000\n",
              "75%      3.000000    1.000000   38.000000   33.375000    1.000000\n",
              "max      3.000000    1.000000   80.000000  512.329200    1.000000"
            ]
          },
          "metadata": {},
          "execution_count": 95
        }
      ]
    },
    {
      "cell_type": "code",
      "metadata": {
        "colab": {
          "base_uri": "https://localhost:8080/",
          "height": 144
        },
        "id": "o5UV6gxRURKw",
        "outputId": "c9b15fd4-b179-4715-9ab5-8c60d1053ebd"
      },
      "source": [
        "titanic[['Pclass', 'Survived']].groupby(['Pclass'], as_index=False).mean().sort_values(by='Survived', ascending=False)"
      ],
      "execution_count": 96,
      "outputs": [
        {
          "output_type": "execute_result",
          "data": {
            "text/html": [
              "<div>\n",
              "<style scoped>\n",
              "    .dataframe tbody tr th:only-of-type {\n",
              "        vertical-align: middle;\n",
              "    }\n",
              "\n",
              "    .dataframe tbody tr th {\n",
              "        vertical-align: top;\n",
              "    }\n",
              "\n",
              "    .dataframe thead th {\n",
              "        text-align: right;\n",
              "    }\n",
              "</style>\n",
              "<table border=\"1\" class=\"dataframe\">\n",
              "  <thead>\n",
              "    <tr style=\"text-align: right;\">\n",
              "      <th></th>\n",
              "      <th>Pclass</th>\n",
              "      <th>Survived</th>\n",
              "    </tr>\n",
              "  </thead>\n",
              "  <tbody>\n",
              "    <tr>\n",
              "      <th>0</th>\n",
              "      <td>1</td>\n",
              "      <td>0.655914</td>\n",
              "    </tr>\n",
              "    <tr>\n",
              "      <th>1</th>\n",
              "      <td>2</td>\n",
              "      <td>0.479769</td>\n",
              "    </tr>\n",
              "    <tr>\n",
              "      <th>2</th>\n",
              "      <td>3</td>\n",
              "      <td>0.239437</td>\n",
              "    </tr>\n",
              "  </tbody>\n",
              "</table>\n",
              "</div>"
            ],
            "text/plain": [
              "   Pclass  Survived\n",
              "0       1  0.655914\n",
              "1       2  0.479769\n",
              "2       3  0.239437"
            ]
          },
          "metadata": {},
          "execution_count": 96
        }
      ]
    },
    {
      "cell_type": "code",
      "metadata": {
        "colab": {
          "base_uri": "https://localhost:8080/",
          "height": 112
        },
        "id": "QkLKCBOUWDXQ",
        "outputId": "044e2382-5cbb-45b7-cd77-04809b130318"
      },
      "source": [
        "titanic[['Sex', 'Survived']].groupby(['Sex'], as_index=False).mean().sort_values(by='Survived', ascending=False)"
      ],
      "execution_count": 97,
      "outputs": [
        {
          "output_type": "execute_result",
          "data": {
            "text/html": [
              "<div>\n",
              "<style scoped>\n",
              "    .dataframe tbody tr th:only-of-type {\n",
              "        vertical-align: middle;\n",
              "    }\n",
              "\n",
              "    .dataframe tbody tr th {\n",
              "        vertical-align: top;\n",
              "    }\n",
              "\n",
              "    .dataframe thead th {\n",
              "        text-align: right;\n",
              "    }\n",
              "</style>\n",
              "<table border=\"1\" class=\"dataframe\">\n",
              "  <thead>\n",
              "    <tr style=\"text-align: right;\">\n",
              "      <th></th>\n",
              "      <th>Sex</th>\n",
              "      <th>Survived</th>\n",
              "    </tr>\n",
              "  </thead>\n",
              "  <tbody>\n",
              "    <tr>\n",
              "      <th>1</th>\n",
              "      <td>1</td>\n",
              "      <td>0.754789</td>\n",
              "    </tr>\n",
              "    <tr>\n",
              "      <th>0</th>\n",
              "      <td>0</td>\n",
              "      <td>0.205298</td>\n",
              "    </tr>\n",
              "  </tbody>\n",
              "</table>\n",
              "</div>"
            ],
            "text/plain": [
              "   Sex  Survived\n",
              "1    1  0.754789\n",
              "0    0  0.205298"
            ]
          },
          "metadata": {},
          "execution_count": 97
        }
      ]
    },
    {
      "cell_type": "code",
      "metadata": {
        "colab": {
          "base_uri": "https://localhost:8080/"
        },
        "id": "iXTUaCO9Z939",
        "outputId": "bd3ab32f-3e2f-4f11-c0fd-6b4c8157e78b"
      },
      "source": [
        "#we use 90% of data for training\n",
        "n_train = 642 # n_train = 0.85 * 714 = 606\n",
        "n_test = 72 # n_test = 108\n",
        "\n",
        "X = titanic[['Pclass','Sex','Age','Fare']]\n",
        "y = titanic[['Survived']]\n",
        "\n",
        "X_train = X[:n_train]\n",
        "y_train = y[:n_train]\n",
        "X_test = X[n_train:]\n",
        "y_test = y[n_train:]\n",
        "\n",
        "print('X_train',X_train.shape)\n",
        "print('y_train',y_train.shape)\n",
        "print('X_test',X_test.shape)\n",
        "print('y_test',y_test.shape)"
      ],
      "execution_count": 102,
      "outputs": [
        {
          "output_type": "stream",
          "name": "stdout",
          "text": [
            "X_train (642, 4)\n",
            "y_train (642, 1)\n",
            "X_test (72, 4)\n",
            "y_test (72, 1)\n"
          ]
        }
      ]
    },
    {
      "cell_type": "code",
      "metadata": {
        "id": "akp_XvCsXOsS"
      },
      "source": [
        "from sklearn import tree\n",
        "\n",
        "classifier = tree.DecisionTreeClassifier(random_state=42)\n",
        "classifier = classifier.fit(X_train,y_train)"
      ],
      "execution_count": 103,
      "outputs": []
    },
    {
      "cell_type": "code",
      "metadata": {
        "colab": {
          "base_uri": "https://localhost:8080/",
          "height": 35
        },
        "id": "XanSEADGXPBL",
        "outputId": "fcc1ab23-3fb2-4ebd-d1a6-7a80741891ad"
      },
      "source": [
        "#plotting decision tree\n",
        "\n",
        "import graphviz\n",
        "dot_data = tree.export_graphviz(classifier, out_file=None) \n",
        "graph = graphviz.Source(dot_data) \n",
        "graph.render()"
      ],
      "execution_count": 106,
      "outputs": [
        {
          "output_type": "execute_result",
          "data": {
            "application/vnd.google.colaboratory.intrinsic+json": {
              "type": "string"
            },
            "text/plain": [
              "'Source.gv.pdf'"
            ]
          },
          "metadata": {},
          "execution_count": 106
        }
      ]
    },
    {
      "cell_type": "code",
      "metadata": {
        "colab": {
          "base_uri": "https://localhost:8080/"
        },
        "id": "RsI99TySXPSr",
        "outputId": "7b828aed-d535-4449-b40f-8d8378bc5d0a"
      },
      "source": [
        "from sklearn.metrics import accuracy_score\n",
        "\n",
        "y_pred = classifier.predict(X_test)\n",
        "\n",
        "print('Accuracy is',accuracy_score(y_pred,y_test))"
      ],
      "execution_count": 105,
      "outputs": [
        {
          "output_type": "stream",
          "name": "stdout",
          "text": [
            "Accuracy is 0.8611111111111112\n"
          ]
        }
      ]
    }
  ]
}